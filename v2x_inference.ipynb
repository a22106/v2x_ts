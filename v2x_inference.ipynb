{
 "cells": [
  {
   "cell_type": "code",
   "execution_count": 1,
   "metadata": {},
   "outputs": [],
   "source": [
    "from tsai.all import *\n",
    "import sklearn.metrics as skm\n",
    "import numpy as np\n",
    "import pandas as pd\n",
    "\n",
    "\n",
    "X, y = np.load(\"data/X_sum_all.npy\"), np.load(\"data/y_sum_all.npy\")\n",
    "y_turn, y_lane, y_speed, y_hazard = y[:, 0], y[:, 1], y[:, 2], y[:, 3]"
   ]
  },
  {
   "cell_type": "code",
   "execution_count": null,
   "metadata": {},
   "outputs": [],
   "source": [
    "learner_turn = load_learner_all(path=\"models/turn_20221226_0955\", dls_fname='dls_turn', model_fname='model_turn_MLSTM_FCNPlus', learner_fname='learner_turn')\n",
    "splits = get_splits(y_turn, valid_size=0.2, random_state=42)"
   ]
  },
  {
   "attachments": {},
   "cell_type": "markdown",
   "metadata": {},
   "source": [
    "# 2"
   ]
  },
  {
   "cell_type": "code",
   "execution_count": 3,
   "metadata": {},
   "outputs": [
    {
     "name": "stdout",
     "output_type": "stream",
     "text": [
      "Counter({'False': 848269, 'Right': 25795, 'Left': 24247, 'Reverse': 1689}) \n",
      " Counter({'False': 900000}) \n",
      " Counter({'False': 899281, 'Hbrk': 527, 'Acc': 192}) \n",
      " Counter({'False': 896901, 'True': 3099})\n",
      "False: 0.9425 Left: 0.0269 Right: 0.0287 Reverse: 0.0019 \n",
      "False: 1.0000 \n",
      "False: 0.9992 Hbrk: 0.0006 Acc: 0.0002 \n",
      "False: 0.9966 True: 0.0034 \n"
     ]
    }
   ],
   "source": [
    "DATANUM = 900000\n",
    "from collections import Counter\n",
    "\n",
    "y_turn, y_lane, y_speed, y_hazard = y[:, 0], y[:, 1], y[:, 2], y[:, 3]\n",
    "\n",
    "ct_turn, ct_lane, ct_speed, ct_hazard = Counter(y_turn), Counter(y_lane), Counter(y_speed), Counter(y_hazard)\n",
    "\n",
    "print(ct_turn, \"\\n\", ct_lane, \"\\n\", ct_speed, \"\\n\", ct_hazard)\n",
    "\n",
    "for keys in ct_turn.keys():\n",
    "    print(f\"{keys}: {ct_turn[keys] / DATANUM:.4f}\", end=\" \")\n",
    "print()\n",
    "\n",
    "for keys in ct_lane.keys():\n",
    "    print(f\"{keys}: {ct_lane[keys] / DATANUM:.4f}\", end=\" \")\n",
    "print()\n",
    "\n",
    "for keys in ct_speed.keys():\n",
    "    print(f\"{keys}: {ct_speed[keys] / DATANUM:.4f}\", end=\" \")\n",
    "print()\n",
    "\n",
    "for keys in ct_hazard.keys():\n",
    "    print(f\"{keys}: {ct_hazard[keys] / DATANUM:.4f}\", end=\" \")\n",
    "print()"
   ]
  },
  {
   "cell_type": "code",
   "execution_count": 10,
   "metadata": {},
   "outputs": [
    {
     "name": "stdout",
     "output_type": "stream",
     "text": [
      "False: 848269 Left: 24247 Right: 25795 Reverse: 1689\n"
     ]
    }
   ],
   "source": [
    "print(' '.join(f'{k}: {v}' for k, v in ct_turn.items()))"
   ]
  },
  {
   "cell_type": "code",
   "execution_count": 27,
   "metadata": {},
   "outputs": [],
   "source": [
    "def df_to_exc(test_targets, test_preds, classes):\n",
    "    df = pd.DataFrame(columns=[\"targets\", \"preds\", \"Accuracy\", \"Recall\", \"Precision\", \"F1_Score\"])\n",
    "\n",
    "    for idx in range(len(test_targets)):\n",
    "        target_class, pred_class = classes[int(test_targets[idx])], classes[int(test_preds[idx])]\n",
    "        test_accuracy = round(skm.accuracy_score(test_targets[:idx], test_preds[:idx]), 4)\n",
    "        test_precision = round(skm.precision_score(test_targets[:idx], test_preds[:idx], average = \"weighted\"), 4)\n",
    "        test_recall = round(skm.recall_score(test_targets[:idx], test_preds[:idx], average = \"weighted\"), 4)\n",
    "        test_f1 = round(skm.f1_score(test_targets[:idx], test_preds[:idx], average = \"weighted\"), 4)\n",
    "        \n",
    "        print(f\"{idx+1}: {target_class}, {pred_class},\", end=\" \")\n",
    "        print(f\"Accuracy: {test_accuracy}, Precision: {test_precision}, Recall: {test_recall}, F1_Score: {test_f1}\")\n",
    "        \n",
    "        df.loc[idx+1] = [target_class, pred_class, test_accuracy, test_precision, test_recall, test_f1]\n",
    "\n",
    "\n",
    "    skm.confusion_matrix(test_targets, test_preds)\n",
    "    df.head()\n",
    "    df.to_excel(\"turn.xlsx\")\n",
    "    df.to_csv(\"output/turn_result.csv\", index=False)\n",
    "\n",
    "df_to_exc(targets, preds, classes)"
   ]
  },
  {
   "attachments": {},
   "cell_type": "markdown",
   "metadata": {},
   "source": [
    "# turn"
   ]
  },
  {
   "cell_type": "code",
   "execution_count": 17,
   "metadata": {},
   "outputs": [
    {
     "name": "stdout",
     "output_type": "stream",
     "text": [
      "TensorCategory([0.9425, 0.0269, 0.0019, 0.0287], device='cuda:0')\n"
     ]
    },
    {
     "data": {
      "text/html": [
       "\n",
       "<style>\n",
       "    /* Turns off some styling */\n",
       "    progress {\n",
       "        /* gets rid of default border in Firefox and Opera. */\n",
       "        border: none;\n",
       "        /* Needs to be in here for Safari polyfill so background images work as expected. */\n",
       "        background-size: auto;\n",
       "    }\n",
       "    progress:not([value]), progress:not([value])::-webkit-progress-bar {\n",
       "        background: repeating-linear-gradient(45deg, #7e7e7e, #7e7e7e 10px, #5c5c5c 10px, #5c5c5c 20px);\n",
       "    }\n",
       "    .progress-bar-interrupted, .progress-bar-interrupted::-webkit-progress-bar {\n",
       "        background: #F44336;\n",
       "    }\n",
       "</style>\n"
      ],
      "text/plain": [
       "<IPython.core.display.HTML object>"
      ]
     },
     "metadata": {},
     "output_type": "display_data"
    },
    {
     "data": {
      "text/html": [],
      "text/plain": [
       "<IPython.core.display.HTML object>"
      ]
     },
     "metadata": {},
     "output_type": "display_data"
    }
   ],
   "source": [
    "# False: 0, Right: 1, Reverse: 2, Left: 3 -> 0: False, 1: Right, 2: Left, 3: Reverse\n",
    "class_turn = {0: \"False\", 1: \"Right\", 2: \"Left\", 3: \"Reverse\"}\n",
    "\n",
    "learner_turn = load_learner_all(path=\"models/turn_20221226_0955\", dls_fname='dls_turn', model_fname='model_turn_MLSTM_FCNPlus', learner_fname='learner_turn')\n",
    "\n",
    "dls_turn = learner_turn.dls\n",
    "valid_dl_turn = dls_turn.valid\n",
    "print(dls_turn.class_priors)\n",
    "\n",
    "_, test_targets_turn, test_preds_turn = learner_turn.get_preds(dl=valid_dl_turn, with_decoded=True, save_preds=None, save_targs=None)\n",
    "\n",
    "# False: 0, Right: 1, Reverse: 2, Left: 3 -> 0: False, 1: Right, 2: Left, 3: Reverse\n",
    "test_targets_turn = test_targets_turn.tolist()\n",
    "test_preds_turn = test_preds_turn.tolist()\n",
    "\n",
    "for idx in range(len(test_targets_turn)):\n",
    "    if test_targets_turn[idx] == 3:\n",
    "        test_targets_turn[idx] = 2\n",
    "    elif test_targets_turn[idx] == 2:\n",
    "        test_targets_turn[idx] = 3\n",
    "\n",
    "for idx in range(len(test_preds_turn)):\n",
    "    if test_preds_turn[idx] == 3:\n",
    "        test_preds_turn[idx] = 2\n",
    "    elif test_preds_turn[idx] == 2:\n",
    "        test_preds_turn[idx] = 3"
   ]
  },
  {
   "attachments": {},
   "cell_type": "markdown",
   "metadata": {},
   "source": [
    "# speed"
   ]
  },
  {
   "cell_type": "code",
   "execution_count": 14,
   "metadata": {},
   "outputs": [
    {
     "name": "stdout",
     "output_type": "stream",
     "text": [
      "TensorCategory([2.1298e-04, 9.9920e-01, 5.8522e-04], device='cuda:0')\n"
     ]
    },
    {
     "data": {
      "text/html": [
       "\n",
       "<style>\n",
       "    /* Turns off some styling */\n",
       "    progress {\n",
       "        /* gets rid of default border in Firefox and Opera. */\n",
       "        border: none;\n",
       "        /* Needs to be in here for Safari polyfill so background images work as expected. */\n",
       "        background-size: auto;\n",
       "    }\n",
       "    progress:not([value]), progress:not([value])::-webkit-progress-bar {\n",
       "        background: repeating-linear-gradient(45deg, #7e7e7e, #7e7e7e 10px, #5c5c5c 10px, #5c5c5c 20px);\n",
       "    }\n",
       "    .progress-bar-interrupted, .progress-bar-interrupted::-webkit-progress-bar {\n",
       "        background: #F44336;\n",
       "    }\n",
       "</style>\n"
      ],
      "text/plain": [
       "<IPython.core.display.HTML object>"
      ]
     },
     "metadata": {},
     "output_type": "display_data"
    },
    {
     "data": {
      "text/html": [],
      "text/plain": [
       "<IPython.core.display.HTML object>"
      ]
     },
     "metadata": {},
     "output_type": "display_data"
    }
   ],
   "source": [
    "# Acc: 0, False: 1, Hbrk: 2\n",
    "class_speed = {0: \"False\", 1: \"Acc\", 2: \"Hbrk\"}\n",
    "\n",
    "learner_speed = load_learner_all(path=\"models/speed_20221226_1202\", dls_fname='dls_speed', model_fname='model_speed_MLSTM_FCNPlus', learner_fname='learner_speed')\n",
    "\n",
    "dls_speed = learner_speed.dls\n",
    "valid_dl_speed = dls_speed.valid\n",
    "print(dls_speed.class_priors)\n",
    "\n",
    "_, test_targets_speed, test_preds_speed = learner_speed.get_preds(dl=valid_dl_speed, with_decoded=True, save_preds=None, save_targs=None)\n",
    "\n",
    "# in speed_targets, 0: Acc, 1: False, 2: Hbrk\n",
    "# it'll be changed to 0: False, 1: Acc, 2: Hbrk\n",
    "test_targets_speed = test_targets_speed.tolist()\n",
    "test_preds_speed = test_preds_speed.tolist()\n",
    "\n",
    "for idx in range(len(test_targets_speed)):\n",
    "    if test_targets_speed[idx] == 0:\n",
    "        test_targets_speed[idx] = 1\n",
    "    elif test_targets_speed[idx] == 1:\n",
    "        test_targets_speed[idx] = 0\n",
    "\n",
    "for idx in range(len(test_preds_speed)):\n",
    "    if test_preds_speed[idx] == 0:\n",
    "        test_preds_speed[idx] = 1\n",
    "    elif test_preds_speed[idx] == 1:\n",
    "        test_preds_speed[idx] = 0"
   ]
  },
  {
   "attachments": {},
   "cell_type": "markdown",
   "metadata": {},
   "source": [
    "# compare Macro and Micro scores"
   ]
  },
  {
   "cell_type": "code",
   "execution_count": 21,
   "metadata": {},
   "outputs": [
    {
     "name": "stdout",
     "output_type": "stream",
     "text": [
      "Macro Scores\n",
      "              precision    recall  f1-score   support\n",
      "\n",
      "       False     0.9970    0.9927    0.9949    169654\n",
      "       Right     0.9180    0.9425    0.9301      4849\n",
      "        Left     0.8581    0.9543    0.9036      5159\n",
      "     Reverse     0.8592    0.9024    0.8802       338\n",
      "\n",
      "    accuracy                         0.9901    180000\n",
      "   macro avg     0.9081    0.9480    0.9272    180000\n",
      "weighted avg     0.9906    0.9901    0.9903    180000\n",
      "\n",
      "Micro Scores\n",
      "              precision    recall  f1-score   support\n",
      "\n",
      "       False     0.9970    0.9927    0.9949    169654\n",
      "       Right     0.9180    0.9425    0.9301      4849\n",
      "        Left     0.8581    0.9543    0.9036      5159\n",
      "     Reverse     0.8592    0.9024    0.8802       338\n",
      "\n",
      "    accuracy                         0.9901    180000\n",
      "   macro avg     0.9081    0.9480    0.9272    180000\n",
      "weighted avg     0.9906    0.9901    0.9903    180000\n",
      "\n",
      "Macro Scores\n",
      "              precision    recall  f1-score   support\n",
      "\n",
      "       False     0.9997    1.0000    0.9998    179856\n",
      "         Acc     0.9655    0.7179    0.8235        39\n",
      "        Hbrk     0.8644    0.4857    0.6220       105\n",
      "\n",
      "    accuracy                         0.9996    180000\n",
      "   macro avg     0.9432    0.7345    0.8151    180000\n",
      "weighted avg     0.9996    0.9996    0.9996    180000\n",
      "\n",
      "Micro Scores\n",
      "              precision    recall  f1-score   support\n",
      "\n",
      "       False     0.9997    1.0000    0.9998    179856\n",
      "         Acc     0.9655    0.7179    0.8235        39\n",
      "        Hbrk     0.8644    0.4857    0.6220       105\n",
      "\n",
      "    accuracy                         0.9996    180000\n",
      "   macro avg     0.9432    0.7345    0.8151    180000\n",
      "weighted avg     0.9996    0.9996    0.9996    180000\n",
      "\n"
     ]
    }
   ],
   "source": [
    "# compare Macro and Micro scores\n",
    "def compare_scores(test_targets, test_preds, classes):\n",
    "    print(\"Macro Scores\")\n",
    "    print(skm.classification_report(test_targets, test_preds, target_names=classes, digits=4))\n",
    "    print(\"Micro Scores\")\n",
    "    print(skm.classification_report(test_targets, test_preds, target_names=classes, digits=4, zero_division=0, output_dict=True)[\"\"])\n",
    "    \n",
    "compare_scores(test_targets_turn, test_preds_turn, list(class_turn.values()))\n",
    "compare_scores(test_targets_speed, test_preds_speed, list(class_speed.values()))"
   ]
  },
  {
   "attachments": {},
   "cell_type": "markdown",
   "metadata": {},
   "source": [
    "# TP, FP, FN, TN"
   ]
  },
  {
   "cell_type": "code",
   "execution_count": 10,
   "metadata": {},
   "outputs": [
    {
     "data": {
      "text/plain": [
       "([179850, 28, 51], [62, 1, 8], [82, 179960, 179887], [6, 11, 54])"
      ]
     },
     "execution_count": 10,
     "metadata": {},
     "output_type": "execute_result"
    }
   ],
   "source": [
    "# calculate True Positive, False Positive, True Negative, False Negative of each class\n",
    "def calculate_tp_fp_tn_fn(test_targets, test_preds, classes):\n",
    "    tp, fp, tn, fn = [], [], [], []\n",
    "    \n",
    "    for idx in range(len(classes)):\n",
    "        tp.append(0)\n",
    "        fp.append(0)\n",
    "        tn.append(0)\n",
    "        fn.append(0)\n",
    "\n",
    "    for idx in range(len(test_targets)):\n",
    "        target_class, pred_class = int(test_targets[idx]), int(test_preds[idx])\n",
    "        if target_class == pred_class:\n",
    "            tp[target_class] += 1\n",
    "        else:\n",
    "            fp[pred_class] += 1\n",
    "            fn[target_class] += 1\n",
    "\n",
    "    for idx in range(len(classes)):\n",
    "        tn[idx] = len(test_targets) - tp[idx] - fp[idx] - fn[idx]\n",
    "\n",
    "    return tp, fp, tn, fn\n",
    "\n",
    "calculate_tp_fp_tn_fn(test_targets_speed, test_preds_speed, class_speed)"
   ]
  },
  {
   "attachments": {},
   "cell_type": "markdown",
   "metadata": {},
   "source": [
    "# confusion matrix"
   ]
  },
  {
   "cell_type": "code",
   "execution_count": 36,
   "metadata": {},
   "outputs": [],
   "source": [
    "speed_targets = test_targets\n",
    "speed_preds = test_preds"
   ]
  },
  {
   "cell_type": "code",
   "execution_count": 37,
   "metadata": {},
   "outputs": [],
   "source": [
    "# in speed_targets, 0: Acc, 1: False, 2: Hbrk\n",
    "# it'll be changed to 0: False, 1: Acc, 2: Hbrk\n",
    "speed_targets = speed_targets.tolist()\n",
    "speed_preds = speed_preds.tolist()\n",
    "\n",
    "for idx in range(len(speed_targets)):\n",
    "    if speed_targets[idx] == 0:\n",
    "        speed_targets[idx] = 1\n",
    "    elif speed_targets[idx] == 1:\n",
    "        speed_targets[idx] = 0\n",
    "\n",
    "for idx in range(len(speed_preds)):\n",
    "    if speed_preds[idx] == 0:\n",
    "        speed_preds[idx] = 1\n",
    "    elif speed_preds[idx] == 1:\n",
    "        speed_preds[idx] = 0"
   ]
  },
  {
   "cell_type": "code",
   "execution_count": 49,
   "metadata": {},
   "outputs": [
    {
     "name": "stdout",
     "output_type": "stream",
     "text": [
      "0.9431931360394848 0.7345432145472177 0.8150972068603731\n"
     ]
    },
    {
     "data": {
      "text/plain": [
       "array([[179850,      0,      6],\n",
       "       [     9,     28,      2],\n",
       "       [    53,      1,     51]])"
      ]
     },
     "execution_count": 49,
     "metadata": {},
     "output_type": "execute_result"
    }
   ],
   "source": [
    "print(skm.precision_score(speed_targets, speed_preds, average = \"macro\"),\n",
    "skm.recall_score(speed_targets, speed_preds, average = \"macro\"),\n",
    "skm.f1_score(speed_targets, speed_preds, average = \"macro\"))\n",
    "skm.confusion_matrix(speed_targets, speed_preds)"
   ]
  },
  {
   "cell_type": "code",
   "execution_count": 56,
   "metadata": {},
   "outputs": [],
   "source": [
    "# make plot confusion matrix\n",
    "from matplotlib import pyplot as plt\n",
    "\n",
    "def plot_confusion_matrix(cm, classes, normalize=False, title='Confusion matrix', cmap=plt.cm.Blues):\n",
    "    \"\"\"\n",
    "    This function prints and plots the confusion matrix.\n",
    "    Normalization can be applied by setting `normalize=True`.\n",
    "    \"\"\"\n",
    "    if normalize:\n",
    "        cm = cm.astype('float') / cm.sum(axis=1)[:, np.newaxis]\n",
    "        print(\"Normalized confusion matrix\")\n",
    "    else:\n",
    "        print('Confusion matrix, without normalization')\n",
    "\n",
    "    print(cm)\n",
    "\n",
    "    plt.imshow(cm, interpolation='nearest', cmap=cmap)\n",
    "    plt.title(title)\n",
    "    plt.colorbar()\n",
    "    tick_marks = np.arange(len(classes))\n",
    "    plt.xticks(tick_marks, classes, rotation=45)\n",
    "    plt.yticks(tick_marks, classes)\n",
    "\n",
    "    fmt = '.2f' if normalize else 'd'\n",
    "    thresh = cm.max() / 2.\n",
    "    for i, j in itertools.product(range(cm.shape[0]), range(cm.shape[1])):\n",
    "        plt.text(j, i, format(cm[i, j], fmt),\n",
    "                 horizontalalignment=\"center\",\n",
    "                 color=\"white\" if cm[i, j] > thresh else \"black\")\n",
    "\n",
    "    plt.tight_layout()\n",
    "    plt.ylabel('True label')\n",
    "    plt.xlabel('Predicted label')\n",
    "    \n"
   ]
  },
  {
   "cell_type": "code",
   "execution_count": null,
   "metadata": {},
   "outputs": [],
   "source": [
    "class_turn = {0: \"False\", 1: \"Right\", 2: \"Reverse\", 3: \"Left\"}\n",
    "class_speed = {0: \"Acc\", 1: \"False\", 2: \"Hbrk\"}\n",
    "\n",
    "\n",
    "# Compute confusion matrix\n",
    "cnf_matrix = skm.confusion_matrix(speed_targets, speed_preds)\n",
    "np.set_printoptions(precision=2)\n",
    "plot_confusion_matrix(cnf_matrix, classes=class_speed.values(), normalize=True, title='Normalized confusion matrix')"
   ]
  },
  {
   "cell_type": "code",
   "execution_count": 69,
   "metadata": {},
   "outputs": [],
   "source": [
    "from datetime import datetime\n",
    "\n",
    "def write_txt_log(*args):\n",
    "    with open(f\"output/test_result.txt\", \"a\") as f:\n",
    "        current_time = datetime.now().strftime('%Y/%m/%d %H:%M:%S')\n",
    "        for arg in args:\n",
    "            f.writelines(f\"[{current_time}] {arg}\\n\")\n",
    "\n",
    "write_txt_log(\"test\", \"test2\", \"test3\")"
   ]
  },
  {
   "attachments": {},
   "cell_type": "markdown",
   "metadata": {},
   "source": [
    "# hazard"
   ]
  },
  {
   "cell_type": "code",
   "execution_count": 74,
   "metadata": {},
   "outputs": [
    {
     "name": "stdout",
     "output_type": "stream",
     "text": [
      "TensorCategory([0.9966, 0.0034], device='cuda:0')\n"
     ]
    },
    {
     "data": {
      "text/html": [
       "\n",
       "<style>\n",
       "    /* Turns off some styling */\n",
       "    progress {\n",
       "        /* gets rid of default border in Firefox and Opera. */\n",
       "        border: none;\n",
       "        /* Needs to be in here for Safari polyfill so background images work as expected. */\n",
       "        background-size: auto;\n",
       "    }\n",
       "    progress:not([value]), progress:not([value])::-webkit-progress-bar {\n",
       "        background: repeating-linear-gradient(45deg, #7e7e7e, #7e7e7e 10px, #5c5c5c 10px, #5c5c5c 20px);\n",
       "    }\n",
       "    .progress-bar-interrupted, .progress-bar-interrupted::-webkit-progress-bar {\n",
       "        background: #F44336;\n",
       "    }\n",
       "</style>\n"
      ],
      "text/plain": [
       "<IPython.core.display.HTML object>"
      ]
     },
     "metadata": {},
     "output_type": "display_data"
    },
    {
     "data": {
      "text/html": [],
      "text/plain": [
       "<IPython.core.display.HTML object>"
      ]
     },
     "metadata": {},
     "output_type": "display_data"
    }
   ],
   "source": [
    "class_hazard = {0: \"False\", 1: \"True\"}\n",
    "\n",
    "learner_hazard = load_learner_all(path=\"models/hazard_20221226_1441\", dls_fname='dls_hazard', model_fname='model_hazard_MLSTM_FCNPlus', learner_fname='learner_hazard')\n",
    "dls_hazard = learner_hazard.dls\n",
    "valid_dl_hazard = dls_hazard.valid\n",
    "print(dls_hazard.class_priors)\n",
    "\n",
    "\n",
    "_, test_targets_hazard, test_preds_hazard = learner_hazard.get_preds(dl=valid_dl_hazard, with_decoded=True, save_preds=None, save_targs=None)"
   ]
  },
  {
   "cell_type": "code",
   "execution_count": 77,
   "metadata": {},
   "outputs": [
    {
     "name": "stdout",
     "output_type": "stream",
     "text": [
      "Confusion matrix, without normalization\n",
      "[[179380      0]\n",
      " [   620      0]]\n"
     ]
    },
    {
     "data": {
      "image/png": "[encoded data removed]",
      "text/plain": [
       "<Figure size 640x480 with 2 Axes>"
      ]
     },
     "metadata": {},
     "output_type": "display_data"
    }
   ],
   "source": [
    "\n",
    "# Compute confusion matrix\n",
    "cnf_matrix_hazard = skm.confusion_matrix(test_targets_hazard, test_preds_hazard)\n",
    "plot_confusion_matrix(cnf_matrix_hazard, classes=class_hazard.values(), normalize=False, title='Normalized confusion matrix')"
   ]
  }
 ],
 "metadata": {
  "kernelspec": {
   "display_name": "pius310",
   "language": "python",
   "name": "python3"
  },
  "language_info": {
   "codemirror_mode": {
    "name": "ipython",
    "version": 3
   },
   "file_extension": ".py",
   "mimetype": "text/x-python",
   "name": "python",
   "nbconvert_exporter": "python",
   "pygments_lexer": "ipython3",
   "version": "3.10.8"
  },
  "orig_nbformat": 4,
  "vscode": {
   "interpreter": {
    "hash": "48ca3073c5549c1ccf4f4a58b2740315d5bce04ee37289cb933f5ff9b483ac6d"
   }
  }
 },
 "nbformat": 4,
 "nbformat_minor": 2
}
